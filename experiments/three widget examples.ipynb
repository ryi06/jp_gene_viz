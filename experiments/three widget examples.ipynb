{
 "cells": [
  {
   "cell_type": "code",
   "execution_count": null,
   "metadata": {
    "collapsed": true
   },
   "outputs": [],
   "source": [
    "# three add on example runs\n",
    "# allow import without install\n",
    "import sys\n",
    "if \"..\" not in sys.path:\n",
    "    sys.path.append(\"..\")"
   ]
  },
  {
   "cell_type": "code",
   "execution_count": null,
   "metadata": {
    "collapsed": true
   },
   "outputs": [],
   "source": [
    "from jp_gene_viz import js_context\n",
    "from jp_gene_viz import js_proxy"
   ]
  },
  {
   "cell_type": "code",
   "execution_count": null,
   "metadata": {
    "collapsed": false
   },
   "outputs": [],
   "source": [
    "js_context.load_if_not_loaded([\"three.js\"])\n",
    "js_context.load_if_not_loaded([\"FontUtils.js\"])\n",
    "js_context.load_if_not_loaded([\"helvetiker_regular.typeface.js\"])\n",
    "js_context.load_if_not_loaded([\"three_scatter.js\"])\n",
    "js_context.load_if_not_loaded([\"three_rotator.js\"])\n",
    "js_context.load_if_not_loaded([\"three_orbit.js\"])\n",
    "js_context.load_if_not_loaded([\"three_curve.js\"])\n",
    "js_context.load_if_not_loaded([\"TextGeometry.js\"])\n",
    "js_context.load_if_not_loaded([\"three_simple_text.js\"])\n",
    "js_context.load_if_not_loaded([\"OrbitControls.js\"])"
   ]
  },
  {
   "cell_type": "code",
   "execution_count": null,
   "metadata": {
    "collapsed": false
   },
   "outputs": [],
   "source": [
    "js_proxy.load_javascript_support()"
   ]
  },
  {
   "cell_type": "code",
   "execution_count": null,
   "metadata": {
    "collapsed": false
   },
   "outputs": [],
   "source": [
    "w = js_proxy.ProxyWidget()\n",
    "element = w.element()\n",
    "window = w.window()\n",
    "THREE = window.THREE\n",
    "w(THREE.rotator.example(element))\n",
    "w.flush()\n",
    "w"
   ]
  },
  {
   "cell_type": "code",
   "execution_count": null,
   "metadata": {
    "collapsed": true
   },
   "outputs": [],
   "source": [
    "w = js_proxy.ProxyWidget()\n",
    "element = w.element()\n",
    "window = w.window()\n",
    "THREE = window.THREE\n",
    "w(THREE.orbiter.example(element))\n",
    "w.flush()\n",
    "w"
   ]
  },
  {
   "cell_type": "code",
   "execution_count": null,
   "metadata": {
    "collapsed": true
   },
   "outputs": [],
   "source": [
    "w = js_proxy.ProxyWidget()\n",
    "element = w.element()\n",
    "window = w.window()\n",
    "THREE = window.THREE\n",
    "w(THREE.scatter.example(element))\n",
    "w.flush()\n",
    "w"
   ]
  },
  {
   "cell_type": "code",
   "execution_count": null,
   "metadata": {
    "collapsed": true
   },
   "outputs": [],
   "source": [
    "w = js_proxy.ProxyWidget()\n",
    "element = w.element()\n",
    "window = w.window()\n",
    "THREE = window.THREE\n",
    "w(THREE.simple_text.example(element))\n",
    "w.flush()\n",
    "w"
   ]
  },
  {
   "cell_type": "code",
   "execution_count": null,
   "metadata": {
    "collapsed": false
   },
   "outputs": [],
   "source": [
    "w = js_proxy.ProxyWidget()\n",
    "element = w.element()\n",
    "window = w.window()\n",
    "THREE = window.THREE\n",
    "w(THREE.simple_curve.example(element))\n",
    "w.flush()\n",
    "w"
   ]
  },
  {
   "cell_type": "code",
   "execution_count": null,
   "metadata": {
    "collapsed": false
   },
   "outputs": [],
   "source": [
    "js_context.load_if_not_loaded([\"three_triangles.js\"])"
   ]
  },
  {
   "cell_type": "code",
   "execution_count": null,
   "metadata": {
    "collapsed": true
   },
   "outputs": [],
   "source": [
    "w = js_proxy.ProxyWidget()\n",
    "element = w.element()\n",
    "window = w.window()\n",
    "THREE = window.THREE\n",
    "w(THREE.triangle_surface.example(element))\n",
    "w.flush()\n",
    "w"
   ]
  },
  {
   "cell_type": "code",
   "execution_count": 1,
   "metadata": {
    "collapsed": false
   },
   "outputs": [],
   "source": [
    "from jp_gene_viz import doodle3d"
   ]
  },
  {
   "cell_type": "code",
   "execution_count": 11,
   "metadata": {
    "collapsed": false
   },
   "outputs": [],
   "source": [
    "D = doodle3d.Doodle3D()"
   ]
  },
  {
   "cell_type": "code",
   "execution_count": 12,
   "metadata": {
    "collapsed": false
   },
   "outputs": [],
   "source": [
    "x = 50\n",
    "points = [ (0,0,0), (x,x,x), (0, x,x), (x, 0, x), (0,0,0)]\n",
    "indices = ( (0,1,2), (0,1,3), (0,2,3), (1,2,3))\n",
    "D.curve(0xff0000, points)\n",
    "D.light(0xff00ff, 1000, 1000, 1000)\n",
    "D.light(0xffff00, 1000, 0, 1000)\n",
    "D.light(0x00ffff, 1000, 1000, 0)\n",
    "D.ambient_light(0x775533)\n",
    "x = -50\n",
    "points = [ (0,0,0), (x,x,x), (0, x,x), (x, 0, x), (0,0,0)]\n",
    "D.triangle_surface(points, indices, 0x999999, \"solid\", opacity=0.5)"
   ]
  },
  {
   "cell_type": "code",
   "execution_count": 13,
   "metadata": {
    "collapsed": true
   },
   "outputs": [],
   "source": [
    "D.show()"
   ]
  },
  {
   "cell_type": "code",
   "execution_count": null,
   "metadata": {
    "collapsed": false
   },
   "outputs": [],
   "source": [
    "reload(doodle3d)"
   ]
  },
  {
   "cell_type": "code",
   "execution_count": null,
   "metadata": {
    "collapsed": true
   },
   "outputs": [],
   "source": []
  }
 ],
 "metadata": {
  "kernelspec": {
   "display_name": "Python 2",
   "language": "python",
   "name": "python2"
  },
  "language_info": {
   "codemirror_mode": {
    "name": "ipython",
    "version": 2
   },
   "file_extension": ".py",
   "mimetype": "text/x-python",
   "name": "python",
   "nbconvert_exporter": "python",
   "pygments_lexer": "ipython2",
   "version": "2.7.11"
  },
  "widgets": {
   "state": {
    "0346dc361a194bfea3fcfa60b3aff1f5": {
     "views": []
    },
    "0a329f5ece8e4c7a8626badad5659544": {
     "views": []
    },
    "133e9ff6a60840f4b3fd70ae45fb089e": {
     "views": []
    },
    "15dd9581fb2f4d08b0ca94edeed21f8d": {
     "views": []
    },
    "1d79d60559d44ea5979678793130f2a9": {
     "views": []
    },
    "2ad4f7882f2c41cd92004c53a143c75d": {
     "views": []
    },
    "2bb202632a4d45cebc3600a0b7b976dd": {
     "views": []
    },
    "33113aaa14d74e42b01e2fa04f0a3177": {
     "views": []
    },
    "35bcaa08a1534b2da304a6b42a6b3f3a": {
     "views": []
    },
    "36c98749b0cf4137b0d30e532d49a935": {
     "views": []
    },
    "378a7d0bbd734b6ab3956f4608e06827": {
     "views": []
    },
    "44e83938916747b5b5a548e751afc580": {
     "views": []
    },
    "480a1e74e92441ffb552bc80ca144871": {
     "views": []
    },
    "4e5563f2109d4ffd9268aea5b73bc0d9": {
     "views": []
    },
    "5ab59bd69ec2485ba61245b8a7da3ca7": {
     "views": []
    },
    "622264d128184e0dbaa1b3c233895b76": {
     "views": []
    },
    "671e60b4b6374bd0b6061fe8334abb71": {
     "views": []
    },
    "6c043853c57347cf95a6a260237ff20e": {
     "views": []
    },
    "6c861361f64a4d72a2b942873de65028": {
     "views": []
    },
    "6d89476d953543dca92c21d0c6e5fcaa": {
     "views": []
    },
    "7167d36620a04038b3206b5ffbcdb7ae": {
     "views": []
    },
    "7a9e4760c2f4426bb7ade267b10eb2e9": {
     "views": []
    },
    "840e3159ce0f4ddd96786978f1b5b10c": {
     "views": []
    },
    "a15a53634ccf4e9b93d24540c0012ca4": {
     "views": []
    },
    "a18afc17a0b14ccba4cbf5e02b0337ff": {
     "views": []
    },
    "a272dc2348ae493ab63b29fb760afc3c": {
     "views": []
    },
    "a30fed6a2481414fbcc5d838e8526fba": {
     "views": []
    },
    "cdfafe00725946028dc1c7bf38dd4ffd": {
     "views": []
    },
    "d0b1d96b2dcd424a8cc0e9ebbc0af051": {
     "views": []
    },
    "d32b32656e3046859f2d0f092ef038e4": {
     "views": []
    },
    "d5815bde7f9b4176b780cbd84b9962c2": {
     "views": []
    },
    "dec8f84c1d284fd5a69355a9dfa73665": {
     "views": []
    },
    "e12a187df16c43fa9cfdf25daa84b5af": {
     "views": []
    },
    "e6e7a6d9faa447bd87d6d42a34a8d493": {
     "views": []
    },
    "eb76b095d0d4451ab859f0d17c047a76": {
     "views": []
    },
    "ecc6e568cd624e5fa36e768c4eb32198": {
     "views": [
      {
       "cell_index": 14
      }
     ]
    },
    "f8031bf5b199492fb864ef950d580142": {
     "views": []
    },
    "f86aed0282554cb48c07d1459d8243b6": {
     "views": []
    },
    "fc7549e73c954ccfa271085ccbe2ae0c": {
     "views": []
    },
    "fe3494c54640422cacc476eb21a52022": {
     "views": []
    }
   },
   "version": "1.1.1"
  }
 },
 "nbformat": 4,
 "nbformat_minor": 0
}
